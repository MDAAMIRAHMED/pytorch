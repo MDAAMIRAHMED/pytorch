{
  "nbformat": 4,
  "nbformat_minor": 0,
  "metadata": {
    "colab": {
      "provenance": [],
      "authorship_tag": "ABX9TyPp66hjK/8wBytfFBZPw8E+"
    },
    "kernelspec": {
      "name": "python3",
      "display_name": "Python 3"
    },
    "language_info": {
      "name": "python"
    }
  },
  "cells": [
    {
      "cell_type": "code",
      "execution_count": null,
      "metadata": {
        "id": "aIdu3ozY7zzG"
      },
      "outputs": [],
      "source": [
        "import torch\n",
        "import numpy as np"
      ]
    },
    {
      "cell_type": "markdown",
      "source": [
        "**Tensor Basics**"
      ],
      "metadata": {
        "id": "ovlMN5Lv9uiq"
      }
    },
    {
      "cell_type": "code",
      "source": [
        "x = torch.empty(2, 3, 2)\n",
        "print(x)"
      ],
      "metadata": {
        "colab": {
          "base_uri": "https://localhost:8080/"
        },
        "id": "myR7hgfS72dU",
        "outputId": "aa393237-e8b8-412c-cc09-001efc28ab05"
      },
      "execution_count": null,
      "outputs": [
        {
          "output_type": "stream",
          "name": "stdout",
          "text": [
            "tensor([[[1.3563e-19, 1.3563e-19],\n",
            "         [4.7261e+22, 8.7529e-04],\n",
            "         [1.3556e-19, 1.3563e-19]],\n",
            "\n",
            "        [[1.3563e-19, 1.3563e-19],\n",
            "         [7.1758e+22, 1.3817e+31],\n",
            "         [1.1431e+27, 7.1940e+28]]])\n"
          ]
        }
      ]
    },
    {
      "cell_type": "code",
      "source": [
        "x = torch.rand(2,2)\n",
        "print(x)"
      ],
      "metadata": {
        "colab": {
          "base_uri": "https://localhost:8080/"
        },
        "id": "c6mQzNNk94Bx",
        "outputId": "5b6d6922-39ed-4b90-f6aa-8e10cb8f3a27"
      },
      "execution_count": null,
      "outputs": [
        {
          "output_type": "stream",
          "name": "stdout",
          "text": [
            "tensor([[0.4781, 0.3297],\n",
            "        [0.1760, 0.5067]])\n"
          ]
        }
      ]
    },
    {
      "cell_type": "code",
      "source": [
        "x = torch.zeros(2,2)\n",
        "print(x)"
      ],
      "metadata": {
        "colab": {
          "base_uri": "https://localhost:8080/"
        },
        "id": "LN459N4X-SQk",
        "outputId": "305f271a-29cd-40b3-98cd-3e3da821d0b1"
      },
      "execution_count": null,
      "outputs": [
        {
          "output_type": "stream",
          "name": "stdout",
          "text": [
            "tensor([[0., 0.],\n",
            "        [0., 0.]])\n"
          ]
        }
      ]
    },
    {
      "cell_type": "code",
      "source": [
        "x = torch.ones(2,3)\n",
        "print(x)\n",
        "print(x.dtype)"
      ],
      "metadata": {
        "colab": {
          "base_uri": "https://localhost:8080/"
        },
        "id": "LtDhJsjM-Y8Y",
        "outputId": "772c3235-6a38-4e22-e7d8-0fbc74896f57"
      },
      "execution_count": null,
      "outputs": [
        {
          "output_type": "stream",
          "name": "stdout",
          "text": [
            "tensor([[1., 1., 1.],\n",
            "        [1., 1., 1.]])\n",
            "torch.float32\n"
          ]
        }
      ]
    },
    {
      "cell_type": "code",
      "source": [
        "x = torch.ones(2, 3, dtype=torch.int64)\n",
        "print(x.dtype)"
      ],
      "metadata": {
        "colab": {
          "base_uri": "https://localhost:8080/"
        },
        "id": "XrvP0Cmr-emK",
        "outputId": "ed869317-f6b3-4451-f71f-986362f65106"
      },
      "execution_count": null,
      "outputs": [
        {
          "output_type": "stream",
          "name": "stdout",
          "text": [
            "torch.int64\n"
          ]
        }
      ]
    },
    {
      "cell_type": "code",
      "source": [
        "x = torch.ones(3,2)\n",
        "print(x.size())"
      ],
      "metadata": {
        "colab": {
          "base_uri": "https://localhost:8080/"
        },
        "id": "0eZQ7IaZ-rfk",
        "outputId": "211ee2a9-8d24-4dc0-b897-ffdf634c4bb7"
      },
      "execution_count": null,
      "outputs": [
        {
          "output_type": "stream",
          "name": "stdout",
          "text": [
            "torch.Size([3, 2])\n"
          ]
        }
      ]
    },
    {
      "cell_type": "code",
      "source": [
        "x = torch.tensor([2.5, 0.3])\n",
        "print(x)"
      ],
      "metadata": {
        "colab": {
          "base_uri": "https://localhost:8080/"
        },
        "id": "yLk51MHx_AXw",
        "outputId": "03ca8215-1607-4038-bbd1-fac5f829fc33"
      },
      "execution_count": null,
      "outputs": [
        {
          "output_type": "stream",
          "name": "stdout",
          "text": [
            "tensor([2.5000, 0.3000])\n"
          ]
        }
      ]
    },
    {
      "cell_type": "code",
      "source": [
        "# basic operations\n",
        "\n",
        "x = torch.randint(1, 9, (2,2))\n",
        "y = torch.randint(1, 9, (2,2))\n",
        "\n",
        "print(x)\n",
        "print(y)\n",
        "\n",
        "z = x + y\n",
        "print(z)\n",
        "z = torch.add(x, y)\n",
        "print(z)\n",
        "y.add_(x)\n",
        "print(y)"
      ],
      "metadata": {
        "colab": {
          "base_uri": "https://localhost:8080/"
        },
        "id": "RoTmq35P_ayr",
        "outputId": "6eb32e6c-0ff1-43d6-c433-c23237ae16e9"
      },
      "execution_count": null,
      "outputs": [
        {
          "output_type": "stream",
          "name": "stdout",
          "text": [
            "tensor([[6, 7],\n",
            "        [3, 4]])\n",
            "tensor([[6, 3],\n",
            "        [7, 7]])\n",
            "tensor([[12, 10],\n",
            "        [10, 11]])\n",
            "tensor([[12, 10],\n",
            "        [10, 11]])\n",
            "tensor([[12, 10],\n",
            "        [10, 11]])\n"
          ]
        }
      ]
    },
    {
      "cell_type": "code",
      "source": [
        "x = torch.randint(1, 9, (2,2))\n",
        "y = torch.randint(1, 9, (2,2))\n",
        "\n",
        "print(x)\n",
        "print(y)\n",
        "\n",
        "z = x - y\n",
        "print(z)\n",
        "z = torch.sub(x, y)\n",
        "print(z)\n",
        "y.sub_(x)\n",
        "print(y) # similar with mul and div"
      ],
      "metadata": {
        "colab": {
          "base_uri": "https://localhost:8080/"
        },
        "id": "1IlRRRpbAKlQ",
        "outputId": "daa8a0bb-9b1e-4872-90ba-6e8d030f08b0"
      },
      "execution_count": null,
      "outputs": [
        {
          "output_type": "stream",
          "name": "stdout",
          "text": [
            "tensor([[1, 2],\n",
            "        [6, 8]])\n",
            "tensor([[1, 4],\n",
            "        [7, 7]])\n",
            "tensor([[ 0, -2],\n",
            "        [-1,  1]])\n",
            "tensor([[ 0, -2],\n",
            "        [-1,  1]])\n",
            "tensor([[ 0,  2],\n",
            "        [ 1, -1]])\n"
          ]
        }
      ]
    },
    {
      "cell_type": "code",
      "source": [
        "# slicing\n",
        "\n",
        "x = torch.rand(5,3)\n",
        "print(x)\n",
        "print(x[1])\n",
        "print(x[1, :])\n",
        "print(x[1, 1:3])\n",
        "print(x[1, 1])\n",
        "print(x[1, 1].item())"
      ],
      "metadata": {
        "colab": {
          "base_uri": "https://localhost:8080/"
        },
        "id": "PdivRdsFBlin",
        "outputId": "35fb1a84-9af1-4e44-de41-2ba503921fe1"
      },
      "execution_count": null,
      "outputs": [
        {
          "output_type": "stream",
          "name": "stdout",
          "text": [
            "tensor([[0.9942, 0.8056, 0.8774],\n",
            "        [0.4266, 0.4546, 0.9058],\n",
            "        [0.0818, 0.7340, 0.3989],\n",
            "        [0.7065, 0.5444, 0.9786],\n",
            "        [0.2351, 0.8003, 0.9650]])\n",
            "tensor([0.4266, 0.4546, 0.9058])\n",
            "tensor([0.4266, 0.4546, 0.9058])\n",
            "tensor([0.4546, 0.9058])\n",
            "tensor(0.4546)\n",
            "0.4545542597770691\n"
          ]
        }
      ]
    },
    {
      "cell_type": "code",
      "source": [
        "x = torch.rand(4, 4)\n",
        "print(x)\n",
        "y = x.view(16)\n",
        "print(y)\n",
        "y = x.view(-1,8)\n",
        "print(y.size())"
      ],
      "metadata": {
        "colab": {
          "base_uri": "https://localhost:8080/"
        },
        "id": "Fg5g7fVTCbns",
        "outputId": "c73cae61-c8c7-474c-9556-600baf7a6e30"
      },
      "execution_count": null,
      "outputs": [
        {
          "output_type": "stream",
          "name": "stdout",
          "text": [
            "tensor([[0.3528, 0.5529, 0.3546, 0.5686],\n",
            "        [0.6673, 0.2791, 0.8485, 0.6412],\n",
            "        [0.6369, 0.8842, 0.5226, 0.1934],\n",
            "        [0.0699, 0.0626, 0.9086, 0.8951]])\n",
            "tensor([0.3528, 0.5529, 0.3546, 0.5686, 0.6673, 0.2791, 0.8485, 0.6412, 0.6369,\n",
            "        0.8842, 0.5226, 0.1934, 0.0699, 0.0626, 0.9086, 0.8951])\n",
            "torch.Size([2, 8])\n"
          ]
        }
      ]
    },
    {
      "cell_type": "code",
      "source": [
        "# torch to numpy and vice versa\n",
        "\n",
        "a = torch.ones(5)\n",
        "print(a)\n",
        "b = a.numpy()\n",
        "print(b)\n",
        "\n",
        "a.add_(1)\n",
        "print(a)\n",
        "print(b)"
      ],
      "metadata": {
        "colab": {
          "base_uri": "https://localhost:8080/"
        },
        "id": "uBmex2Y-DsIw",
        "outputId": "3f06435e-db04-4588-ec0d-3d024358362a"
      },
      "execution_count": null,
      "outputs": [
        {
          "output_type": "stream",
          "name": "stdout",
          "text": [
            "tensor([1., 1., 1., 1., 1.])\n",
            "[1. 1. 1. 1. 1.]\n",
            "tensor([2., 2., 2., 2., 2.])\n",
            "[2. 2. 2. 2. 2.]\n"
          ]
        }
      ]
    },
    {
      "cell_type": "code",
      "source": [
        "a = np.ones(3, dtype='int')\n",
        "print(a)\n",
        "b = torch.from_numpy(a)\n",
        "print(b)\n",
        "\n",
        "a += 1\n",
        "print(a)\n",
        "print(b)\n"
      ],
      "metadata": {
        "colab": {
          "base_uri": "https://localhost:8080/"
        },
        "id": "D6mfgPLIFMeY",
        "outputId": "a28c5aa0-3cf0-47b4-aca0-ed766ab2d5a1"
      },
      "execution_count": null,
      "outputs": [
        {
          "output_type": "stream",
          "name": "stdout",
          "text": [
            "[1 1 1]\n",
            "tensor([1, 1, 1])\n",
            "[2 2 2]\n",
            "tensor([2, 2, 2])\n"
          ]
        }
      ]
    },
    {
      "cell_type": "code",
      "source": [
        "if torch.cuda.is_available():\n",
        "  device = torch.device(\"cuda\")\n",
        "  x = torch.ones(5, device=device)\n",
        "  y = torch.ones(5)\n",
        "  y = y.to(device)\n",
        "  z = x + y\n",
        "  z = z.to(\"cpu\")\n",
        "  print(z)"
      ],
      "metadata": {
        "id": "FE4Mv9zMFXi1"
      },
      "execution_count": null,
      "outputs": []
    },
    {
      "cell_type": "code",
      "source": [
        "x = torch.ones(5, requires_grad=True)\n",
        "print(x)"
      ],
      "metadata": {
        "colab": {
          "base_uri": "https://localhost:8080/"
        },
        "id": "JcvSnCTfHvCD",
        "outputId": "60a1e39b-60d8-40b1-f64a-9318709cd6e0"
      },
      "execution_count": null,
      "outputs": [
        {
          "output_type": "stream",
          "name": "stdout",
          "text": [
            "tensor([1., 1., 1., 1., 1.], requires_grad=True)\n"
          ]
        }
      ]
    },
    {
      "cell_type": "markdown",
      "source": [
        "**Gradient Calculation with Autograd**"
      ],
      "metadata": {
        "id": "zuQQP0DuY9v1"
      }
    },
    {
      "cell_type": "code",
      "source": [
        "# gradient calculation\n",
        "x = torch.randn(3, requires_grad=True)\n",
        "print(x)\n",
        "\n",
        "y = x + 2\n",
        "print(y)\n",
        "\n",
        "z = y*y*3\n",
        "z = z.mean()\n",
        "print(z)\n",
        "\n",
        "z.backward() # dz/dx\n",
        "print(x.grad)"
      ],
      "metadata": {
        "id": "lzFH1hp6IR1x",
        "colab": {
          "base_uri": "https://localhost:8080/"
        },
        "outputId": "cbfeef7d-bc74-4b57-d79d-29ae213c49e6"
      },
      "execution_count": null,
      "outputs": [
        {
          "output_type": "stream",
          "name": "stdout",
          "text": [
            "tensor([ 0.4495, -0.2855, -1.4293], requires_grad=True)\n",
            "tensor([2.4495, 1.7145, 0.5707], grad_fn=<AddBackward0>)\n",
            "tensor(9.2649, grad_fn=<MeanBackward0>)\n",
            "tensor([4.8989, 3.4289, 1.1413])\n"
          ]
        }
      ]
    },
    {
      "cell_type": "code",
      "source": [
        "x = torch.randn(3, requires_grad=True)\n",
        "print(x)\n",
        "\n",
        "y = x + 2\n",
        "print(y)\n",
        "\n",
        "z = y*y*3\n",
        "print(z)\n",
        "\n",
        "v = torch.tensor([0.1, 1.0, 0.001], dtype=torch.float64)\n",
        "z.backward(v)\n",
        "print(x.grad)"
      ],
      "metadata": {
        "colab": {
          "base_uri": "https://localhost:8080/"
        },
        "id": "5wLd8sdRZRgZ",
        "outputId": "bd60913f-17f5-4113-ce91-3d9e16af566f"
      },
      "execution_count": null,
      "outputs": [
        {
          "output_type": "stream",
          "name": "stdout",
          "text": [
            "tensor([-0.7775,  0.5394, -0.5363], requires_grad=True)\n",
            "tensor([1.2225, 2.5394, 1.4637], grad_fn=<AddBackward0>)\n",
            "tensor([ 4.4839, 19.3459,  6.4274], grad_fn=<MulBackward0>)\n",
            "tensor([7.3353e-01, 1.5237e+01, 8.7823e-03])\n"
          ]
        }
      ]
    },
    {
      "cell_type": "code",
      "source": [
        "# preventing gradient calculation\n",
        "x = torch.randn(3, requires_grad=True)\n",
        "print(x)\n",
        "# x.requires_grad_(False)\n",
        "# x.detach()\n",
        "# with torch.no_grad()\n",
        "\n",
        "# x.requires_grad_(False)\n",
        "# print(x)\n",
        "\n",
        "y = x.detach()\n",
        "print(x)\n",
        "print(y)\n",
        "\n",
        "\n",
        "with torch.no_grad():\n",
        "  y = x + 2\n",
        "  print(y)\n",
        "\n"
      ],
      "metadata": {
        "colab": {
          "base_uri": "https://localhost:8080/"
        },
        "id": "LcbPYHQAZ8Yd",
        "outputId": "fb8d10f0-193c-49f4-ee6c-b8a6943846c2"
      },
      "execution_count": null,
      "outputs": [
        {
          "output_type": "stream",
          "name": "stdout",
          "text": [
            "tensor([-0.4564,  0.7741, -2.0622], requires_grad=True)\n",
            "tensor([-0.4564,  0.7741, -2.0622], requires_grad=True)\n",
            "tensor([-0.4564,  0.7741, -2.0622])\n",
            "tensor([ 1.5436,  2.7741, -0.0622])\n"
          ]
        }
      ]
    },
    {
      "cell_type": "code",
      "source": [
        "# training example\n",
        "weights = torch.ones(4, requires_grad=True)\n",
        "print(weights)\n",
        "\n",
        "for epoch in range(3):\n",
        "  model_output = (weights*3).sum()\n",
        "  print(model_output)\n",
        "  model_output.backward()\n",
        "  print(weights.grad)\n",
        "  weights.grad.zero_()\n"
      ],
      "metadata": {
        "colab": {
          "base_uri": "https://localhost:8080/"
        },
        "id": "HCBUpx2pbZtx",
        "outputId": "f822fc22-0976-4873-8e52-db9762e9a291"
      },
      "execution_count": null,
      "outputs": [
        {
          "output_type": "stream",
          "name": "stdout",
          "text": [
            "tensor([1., 1., 1., 1.], requires_grad=True)\n",
            "tensor(12., grad_fn=<SumBackward0>)\n",
            "tensor([3., 3., 3., 3.])\n",
            "tensor(12., grad_fn=<SumBackward0>)\n",
            "tensor([3., 3., 3., 3.])\n",
            "tensor(12., grad_fn=<SumBackward0>)\n",
            "tensor([3., 3., 3., 3.])\n"
          ]
        }
      ]
    },
    {
      "cell_type": "code",
      "source": [],
      "metadata": {
        "id": "cVREaAikdeil"
      },
      "execution_count": null,
      "outputs": []
    }
  ]
}