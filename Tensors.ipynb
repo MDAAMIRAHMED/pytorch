{
  "nbformat": 4,
  "nbformat_minor": 0,
  "metadata": {
    "colab": {
      "provenance": [],
      "authorship_tag": "ABX9TyMRD3VQaJS7NlxMsaTG0lKE"
    },
    "kernelspec": {
      "name": "python3",
      "display_name": "Python 3"
    },
    "language_info": {
      "name": "python"
    }
  },
  "cells": [
    {
      "cell_type": "code",
      "execution_count": 48,
      "metadata": {
        "id": "aIdu3ozY7zzG"
      },
      "outputs": [],
      "source": [
        "import torch\n",
        "import numpy as np"
      ]
    },
    {
      "cell_type": "markdown",
      "source": [
        "**Tensor Basics**"
      ],
      "metadata": {
        "id": "ovlMN5Lv9uiq"
      }
    },
    {
      "cell_type": "code",
      "source": [
        "x = torch.empty(2, 3, 2)\n",
        "print(x)"
      ],
      "metadata": {
        "colab": {
          "base_uri": "https://localhost:8080/"
        },
        "id": "myR7hgfS72dU",
        "outputId": "b646ae03-54d4-4332-c606-fa303c70c92d"
      },
      "execution_count": 6,
      "outputs": [
        {
          "output_type": "stream",
          "name": "stdout",
          "text": [
            "tensor([[[3.8115e-43, 0.0000e+00],\n",
            "         [1.7937e-43, 0.0000e+00],\n",
            "         [4.0042e-41, 0.0000e+00]],\n",
            "\n",
            "        [[1.5835e-43, 0.0000e+00],\n",
            "         [6.4086e-34, 0.0000e+00],\n",
            "         [2.1236e+02, 4.3778e-41]]])\n"
          ]
        }
      ]
    },
    {
      "cell_type": "code",
      "source": [
        "x = torch.rand(2,2)\n",
        "print(x)"
      ],
      "metadata": {
        "colab": {
          "base_uri": "https://localhost:8080/"
        },
        "id": "c6mQzNNk94Bx",
        "outputId": "01a05144-27ba-46d6-c727-48b6395a4b63"
      },
      "execution_count": 11,
      "outputs": [
        {
          "output_type": "stream",
          "name": "stdout",
          "text": [
            "tensor([[0.9097, 0.2659],\n",
            "        [0.6814, 0.5514]])\n"
          ]
        }
      ]
    },
    {
      "cell_type": "code",
      "source": [
        "x = torch.zeros(2,2)\n",
        "print(x)"
      ],
      "metadata": {
        "colab": {
          "base_uri": "https://localhost:8080/"
        },
        "id": "LN459N4X-SQk",
        "outputId": "45aac0e3-704c-44a7-df84-881810f724da"
      },
      "execution_count": 13,
      "outputs": [
        {
          "output_type": "stream",
          "name": "stdout",
          "text": [
            "tensor([[0., 0.],\n",
            "        [0., 0.]])\n"
          ]
        }
      ]
    },
    {
      "cell_type": "code",
      "source": [
        "x = torch.ones(2,3)\n",
        "print(x)\n",
        "print(x.dtype)"
      ],
      "metadata": {
        "colab": {
          "base_uri": "https://localhost:8080/"
        },
        "id": "LtDhJsjM-Y8Y",
        "outputId": "1279f393-3bf6-4ca5-be1e-1e200e9c40dd"
      },
      "execution_count": 16,
      "outputs": [
        {
          "output_type": "stream",
          "name": "stdout",
          "text": [
            "tensor([[1., 1., 1.],\n",
            "        [1., 1., 1.]])\n",
            "torch.float32\n"
          ]
        }
      ]
    },
    {
      "cell_type": "code",
      "source": [
        "x = torch.ones(2, 3, dtype=torch.int64)\n",
        "print(x.dtype)"
      ],
      "metadata": {
        "colab": {
          "base_uri": "https://localhost:8080/"
        },
        "id": "XrvP0Cmr-emK",
        "outputId": "cf540e06-d7ec-47fd-ea5d-7aa7cf715ef3"
      },
      "execution_count": 23,
      "outputs": [
        {
          "output_type": "stream",
          "name": "stdout",
          "text": [
            "torch.int64\n"
          ]
        }
      ]
    },
    {
      "cell_type": "code",
      "source": [
        "x = torch.ones(3,2)\n",
        "print(x.size())"
      ],
      "metadata": {
        "colab": {
          "base_uri": "https://localhost:8080/"
        },
        "id": "0eZQ7IaZ-rfk",
        "outputId": "3e93dd0c-3aa5-4bd4-df4d-c55e1c24b7ba"
      },
      "execution_count": 24,
      "outputs": [
        {
          "output_type": "stream",
          "name": "stdout",
          "text": [
            "torch.Size([3, 2])\n"
          ]
        }
      ]
    },
    {
      "cell_type": "code",
      "source": [
        "x = torch.tensor([2.5, 0.3])\n",
        "print(x)"
      ],
      "metadata": {
        "colab": {
          "base_uri": "https://localhost:8080/"
        },
        "id": "yLk51MHx_AXw",
        "outputId": "c28154b4-97ea-4932-f74f-3dd93ce566c5"
      },
      "execution_count": 25,
      "outputs": [
        {
          "output_type": "stream",
          "name": "stdout",
          "text": [
            "tensor([2.5000, 0.3000])\n"
          ]
        }
      ]
    },
    {
      "cell_type": "code",
      "source": [
        "# basic operations\n",
        "\n",
        "x = torch.randint(1, 9, (2,2))\n",
        "y = torch.randint(1, 9, (2,2))\n",
        "\n",
        "print(x)\n",
        "print(y)\n",
        "\n",
        "z = x + y\n",
        "print(z)\n",
        "z = torch.add(x, y)\n",
        "print(z)\n",
        "y.add_(x)\n",
        "print(y)"
      ],
      "metadata": {
        "colab": {
          "base_uri": "https://localhost:8080/"
        },
        "id": "RoTmq35P_ayr",
        "outputId": "79263ee8-3b74-4940-b056-a39cde4758d4"
      },
      "execution_count": 35,
      "outputs": [
        {
          "output_type": "stream",
          "name": "stdout",
          "text": [
            "tensor([[4, 6],\n",
            "        [2, 5]])\n",
            "tensor([[4, 1],\n",
            "        [2, 4]])\n",
            "tensor([[8, 7],\n",
            "        [4, 9]])\n",
            "tensor([[8, 7],\n",
            "        [4, 9]])\n",
            "tensor([[8, 7],\n",
            "        [4, 9]])\n"
          ]
        }
      ]
    },
    {
      "cell_type": "code",
      "source": [
        "x = torch.randint(1, 9, (2,2))\n",
        "y = torch.randint(1, 9, (2,2))\n",
        "\n",
        "print(x)\n",
        "print(y)\n",
        "\n",
        "z = x - y\n",
        "print(z)\n",
        "z = torch.sub(x, y)\n",
        "print(z)\n",
        "y.sub_(x)\n",
        "print(y) # similar with mul and div"
      ],
      "metadata": {
        "colab": {
          "base_uri": "https://localhost:8080/"
        },
        "id": "1IlRRRpbAKlQ",
        "outputId": "ab3abb72-5d92-4fcc-e30f-3eb65be79f84"
      },
      "execution_count": 36,
      "outputs": [
        {
          "output_type": "stream",
          "name": "stdout",
          "text": [
            "tensor([[4, 1],\n",
            "        [3, 6]])\n",
            "tensor([[5, 4],\n",
            "        [7, 4]])\n",
            "tensor([[-1, -3],\n",
            "        [-4,  2]])\n",
            "tensor([[-1, -3],\n",
            "        [-4,  2]])\n",
            "tensor([[ 1,  3],\n",
            "        [ 4, -2]])\n"
          ]
        }
      ]
    },
    {
      "cell_type": "code",
      "source": [
        "# slicing\n",
        "\n",
        "x = torch.rand(5,3)\n",
        "print(x)\n",
        "print(x[1])\n",
        "print(x[1, :])\n",
        "print(x[1, 1:3])\n",
        "print(x[1, 1])\n",
        "print(x[1, 1].item())"
      ],
      "metadata": {
        "colab": {
          "base_uri": "https://localhost:8080/"
        },
        "id": "PdivRdsFBlin",
        "outputId": "3c0d6874-45ee-4680-e6e6-6f16a77040e0"
      },
      "execution_count": 43,
      "outputs": [
        {
          "output_type": "stream",
          "name": "stdout",
          "text": [
            "tensor([[0.5267, 0.1538, 0.0179],\n",
            "        [0.8543, 0.1712, 0.7654],\n",
            "        [0.5370, 0.0335, 0.2322],\n",
            "        [0.9666, 0.6626, 0.1038],\n",
            "        [0.8092, 0.2090, 0.0610]])\n",
            "tensor([0.8543, 0.1712, 0.7654])\n",
            "tensor([0.8543, 0.1712, 0.7654])\n",
            "tensor([0.1712, 0.7654])\n",
            "tensor(0.1712)\n",
            "0.17115139961242676\n"
          ]
        }
      ]
    },
    {
      "cell_type": "code",
      "source": [
        "x = torch.rand(4, 4)\n",
        "print(x)\n",
        "y = x.view(16)\n",
        "print(y)\n",
        "y = x.view(-1,8)\n",
        "print(y.size())"
      ],
      "metadata": {
        "colab": {
          "base_uri": "https://localhost:8080/"
        },
        "id": "Fg5g7fVTCbns",
        "outputId": "7e79dbd2-d4c9-44e3-cf5b-516f365d2110"
      },
      "execution_count": 47,
      "outputs": [
        {
          "output_type": "stream",
          "name": "stdout",
          "text": [
            "tensor([[0.0374, 0.4978, 0.5298, 0.4375],\n",
            "        [0.9476, 0.4175, 0.8852, 0.2336],\n",
            "        [0.8924, 0.5710, 0.7007, 0.9671],\n",
            "        [0.9917, 0.2557, 0.6864, 0.5158]])\n",
            "tensor([0.0374, 0.4978, 0.5298, 0.4375, 0.9476, 0.4175, 0.8852, 0.2336, 0.8924,\n",
            "        0.5710, 0.7007, 0.9671, 0.9917, 0.2557, 0.6864, 0.5158])\n",
            "torch.Size([2, 8])\n"
          ]
        }
      ]
    },
    {
      "cell_type": "code",
      "source": [
        "# torch to numpy and vice versa\n",
        "\n",
        "a = torch.ones(5)\n",
        "print(a)\n",
        "b = a.numpy()\n",
        "print(b)\n",
        "\n",
        "a.add_(1)\n",
        "print(a)\n",
        "print(b)"
      ],
      "metadata": {
        "colab": {
          "base_uri": "https://localhost:8080/"
        },
        "id": "uBmex2Y-DsIw",
        "outputId": "cce36c17-2b5a-4eec-daf0-100d36475f92"
      },
      "execution_count": 51,
      "outputs": [
        {
          "output_type": "stream",
          "name": "stdout",
          "text": [
            "tensor([1., 1., 1., 1., 1.])\n",
            "[1. 1. 1. 1. 1.]\n",
            "tensor([2., 2., 2., 2., 2.])\n",
            "[2. 2. 2. 2. 2.]\n"
          ]
        }
      ]
    },
    {
      "cell_type": "code",
      "source": [
        "a = np.ones(3, dtype='int')\n",
        "print(a)\n",
        "b = torch.from_numpy(a)\n",
        "print(b)\n",
        "\n",
        "a += 1\n",
        "print(a)\n",
        "print(b)\n"
      ],
      "metadata": {
        "colab": {
          "base_uri": "https://localhost:8080/"
        },
        "id": "D6mfgPLIFMeY",
        "outputId": "c916d6ef-54f7-408f-8696-16e2a1b1f70f"
      },
      "execution_count": 61,
      "outputs": [
        {
          "output_type": "stream",
          "name": "stdout",
          "text": [
            "[1 1 1]\n",
            "tensor([1, 1, 1])\n",
            "[2 2 2]\n",
            "tensor([2, 2, 2])\n"
          ]
        }
      ]
    },
    {
      "cell_type": "code",
      "source": [
        "if torch.cuda.is_available():\n",
        "  device = torch.device(\"cuda\")\n",
        "  x = torch.ones(5, device=device)\n",
        "  y = torch.ones(5)\n",
        "  y = y.to(device)\n",
        "  z = x + y\n",
        "  z = z.to(\"cpu\")\n",
        "  print(z)"
      ],
      "metadata": {
        "id": "FE4Mv9zMFXi1"
      },
      "execution_count": 64,
      "outputs": []
    },
    {
      "cell_type": "code",
      "source": [
        "x = torch.ones(5, requires_grad=True)\n",
        "print(x)"
      ],
      "metadata": {
        "colab": {
          "base_uri": "https://localhost:8080/"
        },
        "id": "JcvSnCTfHvCD",
        "outputId": "c0ae5e35-a725-4869-c596-d60b329767b7"
      },
      "execution_count": 65,
      "outputs": [
        {
          "output_type": "stream",
          "name": "stdout",
          "text": [
            "tensor([1., 1., 1., 1., 1.], requires_grad=True)\n"
          ]
        }
      ]
    },
    {
      "cell_type": "code",
      "source": [],
      "metadata": {
        "id": "lzFH1hp6IR1x"
      },
      "execution_count": null,
      "outputs": []
    }
  ]
}